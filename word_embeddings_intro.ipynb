{
 "cells": [
  {
   "cell_type": "markdown",
   "metadata": {
    "slideshow": {
     "slide_type": "slide"
    }
   },
   "source": [
    "# Introduction to Word Embeddings: _Toronto_ : _UofT_ :: _Vancouver_ : ?\n",
    "\n",
    "UBC Master of Data Science program, 2018-19\n",
    "\n",
    "Instructor: Varada Kolhatkar [ʋəɾəda kɔːlɦəʈkər]\n",
    "\n",
    "### Today's plan\n",
    "\n",
    "- Set the stage (~5 mins)\n",
    "- Sample class (~40 mins)\n",
    "    - What is NLP? (~2 min)\n",
    "    - Meaning representation (~10 min)\n",
    "    - Word2Vec (~20 mins)\n",
    "    - Pre-trained embeddings (~5 mins)\n",
    "- Reflection (~)\n",
    "- Vision (~10 mins)\n"
   ]
  },
  {
   "cell_type": "markdown",
   "metadata": {
    "slideshow": {
     "slide_type": "slide"
    }
   },
   "source": [
    "#### Set the stage\n",
    "\n",
    "- I am envisioning this as the second lesson of DSCI 575 (Advanced Machine Learning in the context of Language Processing (NLP) applications). \n",
    "\n",
    "\n",
    "- The first lesson was introductory and \n",
    "- It is the  first week of the final block of the MDS program's curriculum. \n",
    "- The students have already taken four Machine Learning courses: DSCI 571, DSCI 572, DSCI 573, DSCI 563. \n",
    "- They are now ready to apply the concepts they have learned so far on interesting problems. \n",
    "- any prerequisites you might be assuming, and other relevant information."
   ]
  },
  {
   "cell_type": "raw",
   "metadata": {
    "slideshow": {
     "slide_type": "slide"
    }
   },
   "source": [
    "DSCI 575: Advanced Machine Learning \n",
    "## (in the context of Language Processing (NLP) applications)\n"
   ]
  },
  {
   "cell_type": "markdown",
   "metadata": {},
   "source": [
    "#### Today's class: Learning outcomes\n",
    "From this lecture, students are expected to be able to:\n",
    "\n",
    "- explain the general idea of word embeddings \n",
    "- use word embeddings \n",
    "\n",
    "\n",
    "40  minute class: We  will then shift  into role-playing mode,  with you\n",
    "  teaching the class as you really would, and the audience behaving (or at\n",
    "  least, trying to behave) as students  appropriate to the course you have\n",
    "  chosen, doing any exercises you ask us to, asking questions as simulated\n",
    "  students, etc. During this time,  do *not* make meta-comments about your\n",
    "  teaching, other than what you might actually say to a real class.\n"
   ]
  },
  {
   "cell_type": "markdown",
   "metadata": {},
   "source": [
    "#### Reflection \n",
    "+  10 minute  reflection:  Once you  complete the  sample  class, we  stop\n",
    "  role-playing and return to behaving like normal Faculty members, and you\n",
    "  have the opportunity to present\n",
    "\n",
    "        (1) an organized reflection on  the sample class (e.g., addressing\n",
    "        pedagogical issues you considered  when developing this class, the\n",
    "        lecture structure and presentation choices you made and why);\n",
    "\n",
    "        (2) your broader vision of pedagogy;\n",
    "\n",
    "        (3)  how  you  see  yourself  contributing  to  the  departmental,\n",
    "        university, and broader computing communities.\n"
   ]
  },
  {
   "cell_type": "markdown",
   "metadata": {},
   "source": [
    "#### Vision \n",
    "\n",
    "+ 10  minute  presentation:  we   are   interested  in   your   vision  of\n",
    "  undergraduate and  graduate data science  education at UBC, and  how you\n",
    "  might contribute to that. We have attached a draft version of a proposal\n",
    "  for a Minor in Data Science program for your perusal.\n",
    "\n",
    "+ 10 minute Q&A: We will end with a lively Q&A. It is likely that you will\n",
    "  get questions during your reflection period and presentation as well.\n"
   ]
  },
  {
   "cell_type": "code",
   "execution_count": 56,
   "metadata": {
    "slideshow": {
     "slide_type": "skip"
    }
   },
   "outputs": [],
   "source": [
    "import pandas as pd\n",
    "import numpy as np\n",
    "import os, sys\n",
    "from IPython.display import display, HTML\n",
    "\n",
    "import matplotlib.pyplot as plt\n",
    "\n",
    "from sklearn.decomposition import TruncatedSVD\n",
    "from sklearn.linear_model import LinearRegression, LogisticRegression\n",
    "from sklearn.model_selection import train_test_split\n",
    "from sklearn.feature_extraction.text import CountVectorizer\n",
    "from scipy.sparse import coo_matrix, csr_matrix\n",
    "\n",
    "import nltk\n",
    "from nltk.tokenize import sent_tokenize, word_tokenize\n",
    "from nltk.corpus import stopwords\n",
    "\n",
    "import re\n",
    "from collections import defaultdict\n",
    "from collections import Counter\n",
    "\n",
    "plt.rcParams['font.size'] = 16\n",
    "from preprocessing import MyPreprocessor"
   ]
  },
  {
   "cell_type": "code",
   "execution_count": 57,
   "metadata": {},
   "outputs": [],
   "source": [
    "# BEGIN STARTER CODE\n",
    "class CooccurrenceMatrix:\n",
    "    def __init__(self, corpus, \n",
    "                       tokenizer = word_tokenize, \n",
    "                       window_size = 3):\n",
    "        self.corpus = corpus\n",
    "        self.tokenizer = tokenizer\n",
    "        self.window_size = window_size\n",
    "        self.vocab = {}\n",
    "        self.cooccurrence_matrix = None    \n",
    "        \n",
    "    def fit_transform(self):\n",
    "        \"\"\"\n",
    "        Creates a co-occurrence matrix. \n",
    "        \n",
    "        Returns vocabulary (dict) and co-occurrence matrix (csr_matrix)\n",
    "        \"\"\"\n",
    "        data=[]\n",
    "        row=[]\n",
    "        col=[]\n",
    "        for tokens in self.corpus:\n",
    "            for target_index, token in enumerate(tokens):\n",
    "                # Get the index of the word in the vocabulary. If the word is not in the vocabulary, \n",
    "                # set the index to the size of the vocabulary. \n",
    "                i = self.vocab.setdefault(token, len(self.vocab))\n",
    "                \n",
    "                # Consider the context words depending upon the context window \n",
    "                start = max(0, target_index - self.window_size)\n",
    "                end = min(len(tokens), target_index + self.window_size + 1)\n",
    "                \n",
    "                for context_index in range(start, end):\n",
    "                    # Do not consider the target word.  \n",
    "                    if target_index == context_index: \n",
    "                        continue                        \n",
    "                    j = self.vocab.setdefault(tokens[context_index], len(self.vocab))\n",
    "                    # Set diagonal to 0\n",
    "                    if i == j:\n",
    "                        continue\n",
    "                    data.append(1.0); row.append(i); col.append(j);\n",
    "        self.cooccurrence_matrix = csr_matrix((data,(row,col)))\n",
    "        return self.vocab, self.cooccurrence_matrix\n",
    "            \n",
    "    def get_word_vector(self, word):\n",
    "        \"\"\"\n",
    "        Given a word returns the word vector associated with it from the co-occurrence matrix. \n",
    "\n",
    "        Keyword arguments:\n",
    "        word -- (str) the word to look up in the vocab.\n",
    "        \"\"\"\n",
    "        # YOUR CODE HERE\n",
    "        # BEGIN SOLUTION\n",
    "        if word in self.vocab: \n",
    "            return self.cooccurrence_matrix[self.vocab[word]]\n",
    "        else:\n",
    "            print('The word not present in the vocab')\n",
    "        # END SOLUTION\n",
    "\n",
    "# END STARTER CODE"
   ]
  },
  {
   "cell_type": "markdown",
   "metadata": {
    "slideshow": {
     "slide_type": "slide"
    }
   },
   "source": [
    "### Last class: What is Natural Language Processing (NLP)?\n",
    "#### How often do you search everyday? \n",
    "<img src=\"images/Google_search.png\" width=\"900\" height=\"900\">"
   ]
  },
  {
   "cell_type": "markdown",
   "metadata": {
    "slideshow": {
     "slide_type": "slide"
    }
   },
   "source": [
    "## Last class: What is Natural Language Processing (NLP)?\n",
    "\n",
    "<img src=\"images/WhatisNLP.png\" width=\"900\" height=\"900\">"
   ]
  },
  {
   "cell_type": "markdown",
   "metadata": {
    "slideshow": {
     "slide_type": "slide"
    }
   },
   "source": [
    "## Why is it hard?\n",
    "\n",
    "- Language is complex and subtle. \n",
    "- Language is ambiguous at different levels. \n",
    "- Language understanding involves common-sense knowledge and real-world reasoning.\n",
    "- All the AI problems related to representation and reasoning arise in this domain. "
   ]
  },
  {
   "cell_type": "markdown",
   "metadata": {
    "slideshow": {
     "slide_type": "slide"
    }
   },
   "source": [
    "## Example: Lexical ambiguity\n",
    "\n",
    "<img src=\"images/lexical_ambiguity.png\" width=\"800\" height=\"800\">"
   ]
  },
  {
   "cell_type": "markdown",
   "metadata": {
    "slideshow": {
     "slide_type": "skip"
    }
   },
   "source": [
    "## Example: Part-of-speech ambiguity\n",
    "\n",
    "<img src=\"images/pos_ambiguity.png\" width=\"800\" height=\"800\">"
   ]
  },
  {
   "cell_type": "markdown",
   "metadata": {
    "slideshow": {
     "slide_type": "slide"
    }
   },
   "source": [
    "## Example: Referential ambiguity\n",
    "\n",
    "<img src=\"images/referential_ambiguity.png\" width=\"800\" height=\"800\">"
   ]
  },
  {
   "cell_type": "markdown",
   "metadata": {
    "slideshow": {
     "slide_type": "slide"
    }
   },
   "source": [
    "#### Today's promise\n",
    "\n",
    "- A method that learns a powerful representation of text data.  \n",
    "\n",
    "#### Learning outcomes\n",
    "\n",
    "From this class, you will be able to \n",
    "\n",
    "- Explain the general idea of the vector space models and co-occurrence matrices.\n",
    "- Explain the difference between sparse and dense word vectors.\n",
    "- Explain the general idea of the continuous skip-gram model.\n",
    "- Train your own word vectors with Gensim and work with dense word vectors. \n",
    "- Load pre-trained word embeddings."
   ]
  },
  {
   "cell_type": "markdown",
   "metadata": {
    "slideshow": {
     "slide_type": "slide"
    }
   },
   "source": [
    "### Text data\n",
    "\n",
    "- So far we have been using data that looks like this: \n",
    "\n",
    "$X = \\begin{bmatrix}1 & 0.8 & 0.3\\\\ 0 & 0 & 0.4\\\\ 1 & 0.2 & 0.8\\\\ \\end{bmatrix}$ and $y = \\begin{bmatrix}1 \\\\ 0 \\\\ 1 \\end{bmatrix}$\n",
    "\n",
    "- But consider data that looks like this instead: \n",
    "\n",
    "          \n",
    "$X = \\begin{bmatrix}\\text{\"@united you're terrible. You don't understand safety\",}\\\\ \\text{\"@JetBlue safety first !! #lovejetblue\"}\\\\ \\text{\"@SouthwestAir truly the best in #customerservice!\"}\\\\ \\end{bmatrix}$ and $y = \\begin{bmatrix}0 \\\\ 1 \\\\ 1 \\end{bmatrix}$\n",
    "\n",
    "- ML algorithms we have seen so far prefer well-defined and fixed length input/output and text data is usually messy. \n",
    "- How can we effectively represent these reviews using features? \n",
    "    - Ideally we want to capture the \"meaning\" of text in our representation. "
   ]
  },
  {
   "cell_type": "markdown",
   "metadata": {
    "slideshow": {
     "slide_type": "slide"
    }
   },
   "source": [
    "### Word meaning: _cup_ or _bowl_?\n",
    "\n",
    "- Philosophical debate: Where does the category cup end?\n",
    "- Labov, 1975\n",
    "\n",
    "<center>\n",
    "<img src=\"files/images/Labov_cups.png\" width=\"600\" height=\"600\">\n",
    "</center>"
   ]
  },
  {
   "cell_type": "markdown",
   "metadata": {
    "slideshow": {
     "slide_type": "slide"
    }
   },
   "source": [
    "### Word meaning: NLP view\n",
    "- Modeling word meaning that allows us to \n",
    "    * draw useful inferences to solve meaning-related problems \n",
    "    * find relationship between words, e.g., which words are similar, which ones have positive or negative connotations"
   ]
  },
  {
   "cell_type": "markdown",
   "metadata": {
    "slideshow": {
     "slide_type": "slide"
    }
   },
   "source": [
    "### Pair-share (~5 mins) \n",
    "\n",
    "- Suppose you are building a Question Answering system and you are given the following question and three candidate answers. \n",
    "- Brainstorm possible representations of this text that you would use so that the system returns the correct answer.  \n",
    "- Goal: Want a representation\n",
    "    - that captures at least some aspects of its meaning\n",
    "    - that allows us to feed it into Machine Learning algorithms    \n",
    "<blockquote>    \n",
    "<p style=\"font-size:30px\"><b>Question:</b> How <b>tall</b> is Machu Picchu?</p>\n",
    "    <p style=\"font-size:30px\"><b>Candidate 1:</b> Machu Picchu is 13.164 degrees south of the equator.</p>    \n",
    "<p style=\"font-size:30px\"><b>Candidate 2:</b> The official height of Machu Picchu is 2,430 m.</p>\n",
    "<p style=\"font-size:30px\"><b>Candidate 3:</b> Machu Picchu is 80 kilometres (50 miles) northwest of Cusco.</p>    \n",
    "</blockquote> \n",
    "    "
   ]
  },
  {
   "cell_type": "code",
   "execution_count": 59,
   "metadata": {
    "slideshow": {
     "slide_type": "slide"
    }
   },
   "outputs": [
    {
     "data": {
      "text/plain": [
       "[['tall', 'machu', 'picchu'],\n",
       " ['machu', 'picchu', '13.164', 'degrees', 'south', 'equator'],\n",
       " ['official', 'height', 'machu', 'picchu', '2,430'],\n",
       " ['machu', 'picchu', '80', 'kilometres', '50', 'miles', 'northwest', 'cusco']]"
      ]
     },
     "execution_count": 59,
     "metadata": {},
     "output_type": "execute_result"
    }
   ],
   "source": [
    "corpus = [\"How tall is Machu Picchu?\",\n",
    "          \"Machu Picchu is 13.164 degrees south of the equator.\", \n",
    "          \"The official height of Machu Picchu is 2,430 m.\",\n",
    "          \"Machu Picchu is 80 kilometres (50 miles) northwest of Cusco.\"\n",
    "         ]\n",
    "pp = MyPreprocessor()\n",
    "pp_corpus = pp.preprocess_corpus(corpus)\n",
    "pp_corpus"
   ]
  },
  {
   "cell_type": "code",
   "execution_count": 60,
   "metadata": {},
   "outputs": [],
   "source": [
    "vec = CountVectorizer(tokenizer = nltk.word_tokenize)\n",
    "X = vec.fit_transform(corpus)"
   ]
  },
  {
   "cell_type": "markdown",
   "metadata": {
    "slideshow": {
     "slide_type": "slide"
    }
   },
   "source": [
    "### Representation 1: Representing words as atomic symbols\n",
    "\n",
    "- Build the **vocabulary** containing all unique words from the corpus \n",
    "- Represent each word as **one-hot** encoding\n",
    "- A vector of length $V$ such that the value at word index is 1 and all other indices is 0"
   ]
  },
  {
   "cell_type": "code",
   "execution_count": 61,
   "metadata": {
    "slideshow": {
     "slide_type": "skip"
    }
   },
   "outputs": [],
   "source": [
    "def get_onehot_encoding(word, vocab):\n",
    "    onehot = np.zeros(len(vocab), dtype='float64')    \n",
    "    onehot[vocab[word]] = 1\n",
    "    print('one-hot encoding of the word \"%s\" is: %s' % (word, str(onehot)))\n",
    "    return onehot"
   ]
  },
  {
   "cell_type": "code",
   "execution_count": 62,
   "metadata": {
    "slideshow": {
     "slide_type": "slide"
    }
   },
   "outputs": [
    {
     "name": "stdout",
     "output_type": "stream",
     "text": [
      "one-hot encoding of the word \"tall\" is: [0. 0. 0. 0. 0. 0. 0. 0. 0. 0. 0. 0. 0. 0. 0. 0. 0. 0. 0. 0. 0. 0. 0. 1.\n",
      " 0.]\n",
      "one-hot encoding of the word \"height\" is: [0. 0. 0. 0. 0. 0. 0. 0. 0. 0. 0. 1. 0. 0. 0. 0. 0. 0. 0. 0. 0. 0. 0. 0.\n",
      " 0.]\n",
      "The dot product between tall and height is: 0\n"
     ]
    }
   ],
   "source": [
    "# Note: In the NLP community a text data set is referred \n",
    "# to as a **corpus** (plural: corpora).\n",
    "\n",
    "vocab = vec.vocabulary_\n",
    "word1 = 'tall'\n",
    "onehot_word1 = get_onehot_encoding(word1, vocab)\n",
    "\n",
    "word2 = 'height'\n",
    "onehot_word2 = get_onehot_encoding(word2, vocab)\n",
    "\n",
    "print(\"The dot product between %s and %s is: %d\" % \n",
    "      (word1, word2, onehot_word1.dot(onehot_word2)))"
   ]
  },
  {
   "cell_type": "markdown",
   "metadata": {
    "slideshow": {
     "slide_type": "slide"
    }
   },
   "source": [
    "### Problem with one-hot encoding\n",
    "\n",
    "-  The problem with this representation is that there is no inherent notion of relationship between words.\n",
    "\n",
    "<center>\n",
    "$\\vec{height}.\\vec{tall} = 0$ \n",
    "</center>"
   ]
  },
  {
   "cell_type": "markdown",
   "metadata": {
    "slideshow": {
     "slide_type": "slide"
    }
   },
   "source": [
    "### Distributional hypothesis\n",
    "\n",
    "<blockquote> \n",
    "    <p>You shall know a word by the company it keeps.</p>\n",
    "    <footer>Firth, 1957</footer>        \n",
    "</blockquote>\n",
    "\n",
    "<blockquote> \n",
    "If A and B have almost identical environments we say that they are synonyms.\n",
    "<footer>Harris, 1954</footer>    \n",
    "</blockquote>    \n",
    "\n",
    "Example: \n",
    "\n",
    "- Her **child** loves to play in the playground. \n",
    "- Her **kid** loves to play in the playground. \n",
    "\n"
   ]
  },
  {
   "cell_type": "markdown",
   "metadata": {
    "slideshow": {
     "slide_type": "slide"
    }
   },
   "source": [
    "### Representation 2: Term-term co-occurrence matrix"
   ]
  },
  {
   "cell_type": "code",
   "execution_count": 64,
   "metadata": {
    "slideshow": {
     "slide_type": "slide"
    }
   },
   "outputs": [
    {
     "data": {
      "text/html": [
       "<div>\n",
       "<style scoped>\n",
       "    .dataframe tbody tr th:only-of-type {\n",
       "        vertical-align: middle;\n",
       "    }\n",
       "\n",
       "    .dataframe tbody tr th {\n",
       "        vertical-align: top;\n",
       "    }\n",
       "\n",
       "    .dataframe thead th {\n",
       "        text-align: right;\n",
       "    }\n",
       "</style>\n",
       "<table border=\"1\" class=\"dataframe\">\n",
       "  <thead>\n",
       "    <tr style=\"text-align: right;\">\n",
       "      <th></th>\n",
       "      <th>tall</th>\n",
       "      <th>machu</th>\n",
       "      <th>picchu</th>\n",
       "      <th>13.164</th>\n",
       "      <th>degrees</th>\n",
       "      <th>south</th>\n",
       "      <th>equator</th>\n",
       "      <th>official</th>\n",
       "      <th>height</th>\n",
       "      <th>2,430</th>\n",
       "      <th>80</th>\n",
       "      <th>kilometres</th>\n",
       "      <th>50</th>\n",
       "      <th>miles</th>\n",
       "      <th>northwest</th>\n",
       "      <th>cusco</th>\n",
       "    </tr>\n",
       "  </thead>\n",
       "  <tbody>\n",
       "    <tr>\n",
       "      <th>tall</th>\n",
       "      <td>0</td>\n",
       "      <td>1</td>\n",
       "      <td>1</td>\n",
       "      <td>0</td>\n",
       "      <td>0</td>\n",
       "      <td>0</td>\n",
       "      <td>0</td>\n",
       "      <td>0</td>\n",
       "      <td>0</td>\n",
       "      <td>0</td>\n",
       "      <td>0</td>\n",
       "      <td>0</td>\n",
       "      <td>0</td>\n",
       "      <td>0</td>\n",
       "      <td>0</td>\n",
       "      <td>0</td>\n",
       "    </tr>\n",
       "    <tr>\n",
       "      <th>machu</th>\n",
       "      <td>1</td>\n",
       "      <td>0</td>\n",
       "      <td>4</td>\n",
       "      <td>1</td>\n",
       "      <td>1</td>\n",
       "      <td>0</td>\n",
       "      <td>0</td>\n",
       "      <td>1</td>\n",
       "      <td>1</td>\n",
       "      <td>1</td>\n",
       "      <td>1</td>\n",
       "      <td>1</td>\n",
       "      <td>0</td>\n",
       "      <td>0</td>\n",
       "      <td>0</td>\n",
       "      <td>0</td>\n",
       "    </tr>\n",
       "    <tr>\n",
       "      <th>picchu</th>\n",
       "      <td>1</td>\n",
       "      <td>4</td>\n",
       "      <td>0</td>\n",
       "      <td>1</td>\n",
       "      <td>1</td>\n",
       "      <td>1</td>\n",
       "      <td>0</td>\n",
       "      <td>1</td>\n",
       "      <td>1</td>\n",
       "      <td>1</td>\n",
       "      <td>1</td>\n",
       "      <td>1</td>\n",
       "      <td>1</td>\n",
       "      <td>0</td>\n",
       "      <td>0</td>\n",
       "      <td>0</td>\n",
       "    </tr>\n",
       "    <tr>\n",
       "      <th>13.164</th>\n",
       "      <td>0</td>\n",
       "      <td>1</td>\n",
       "      <td>1</td>\n",
       "      <td>0</td>\n",
       "      <td>1</td>\n",
       "      <td>1</td>\n",
       "      <td>1</td>\n",
       "      <td>0</td>\n",
       "      <td>0</td>\n",
       "      <td>0</td>\n",
       "      <td>0</td>\n",
       "      <td>0</td>\n",
       "      <td>0</td>\n",
       "      <td>0</td>\n",
       "      <td>0</td>\n",
       "      <td>0</td>\n",
       "    </tr>\n",
       "    <tr>\n",
       "      <th>degrees</th>\n",
       "      <td>0</td>\n",
       "      <td>1</td>\n",
       "      <td>1</td>\n",
       "      <td>1</td>\n",
       "      <td>0</td>\n",
       "      <td>1</td>\n",
       "      <td>1</td>\n",
       "      <td>0</td>\n",
       "      <td>0</td>\n",
       "      <td>0</td>\n",
       "      <td>0</td>\n",
       "      <td>0</td>\n",
       "      <td>0</td>\n",
       "      <td>0</td>\n",
       "      <td>0</td>\n",
       "      <td>0</td>\n",
       "    </tr>\n",
       "  </tbody>\n",
       "</table>\n",
       "</div>"
      ],
      "text/plain": [
       "         tall  machu  picchu  13.164  degrees  south  equator  official  \\\n",
       "tall        0      1       1       0        0      0        0         0   \n",
       "machu       1      0       4       1        1      0        0         1   \n",
       "picchu      1      4       0       1        1      1        0         1   \n",
       "13.164      0      1       1       0        1      1        1         0   \n",
       "degrees     0      1       1       1        0      1        1         0   \n",
       "\n",
       "         height  2,430  80  kilometres  50  miles  northwest  cusco  \n",
       "tall          0      0   0           0   0      0          0      0  \n",
       "machu         1      1   1           1   0      0          0      0  \n",
       "picchu        1      1   1           1   1      0          0      0  \n",
       "13.164        0      0   0           0   0      0          0      0  \n",
       "degrees       0      0   0           0   0      0          0      0  "
      ]
     },
     "execution_count": 64,
     "metadata": {},
     "output_type": "execute_result"
    }
   ],
   "source": [
    "cm = CooccurrenceMatrix(pp_corpus)\n",
    "vocab, comat = cm.fit_transform()\n",
    "words = [key for key, value in sorted(vocab.items(), key = lambda item: (item[1],item[0]))]\n",
    "df = pd.DataFrame(comat.todense(), \n",
    "                  columns = words, \n",
    "                  index = words,\n",
    "                  dtype = np.int8\n",
    "                 )\n",
    "df.head()"
   ]
  },
  {
   "cell_type": "code",
   "execution_count": 67,
   "metadata": {},
   "outputs": [
    {
     "name": "stdout",
     "output_type": "stream",
     "text": [
      "  (0, 1)\t1.0\n",
      "  (0, 2)\t1.0\n"
     ]
    }
   ],
   "source": [
    "vec1 = cm.get_word_vector('tall')\n",
    "vec2 = cm.get_word_vector('height')\n"
   ]
  },
  {
   "cell_type": "code",
   "execution_count": 22,
   "metadata": {
    "slideshow": {
     "slide_type": "slide"
    }
   },
   "outputs": [
    {
     "data": {
      "text/html": [
       "<div>\n",
       "<style scoped>\n",
       "    .dataframe tbody tr th:only-of-type {\n",
       "        vertical-align: middle;\n",
       "    }\n",
       "\n",
       "    .dataframe tbody tr th {\n",
       "        vertical-align: top;\n",
       "    }\n",
       "\n",
       "    .dataframe thead th {\n",
       "        text-align: right;\n",
       "    }\n",
       "</style>\n",
       "<table border=\"1\" class=\"dataframe\">\n",
       "  <thead>\n",
       "    <tr style=\"text-align: right;\">\n",
       "      <th></th>\n",
       "      <th>(</th>\n",
       "      <th>)</th>\n",
       "      <th>.</th>\n",
       "      <th>13.164</th>\n",
       "      <th>2,430</th>\n",
       "      <th>50</th>\n",
       "      <th>80</th>\n",
       "      <th>?</th>\n",
       "      <th>cusco</th>\n",
       "      <th>degrees</th>\n",
       "      <th>...</th>\n",
       "      <th>m</th>\n",
       "      <th>machu</th>\n",
       "      <th>miles</th>\n",
       "      <th>northwest</th>\n",
       "      <th>of</th>\n",
       "      <th>official</th>\n",
       "      <th>picchu</th>\n",
       "      <th>south</th>\n",
       "      <th>tall</th>\n",
       "      <th>the</th>\n",
       "    </tr>\n",
       "  </thead>\n",
       "  <tbody>\n",
       "    <tr>\n",
       "      <th>How tall is Machu Picchu?</th>\n",
       "      <td>0</td>\n",
       "      <td>0</td>\n",
       "      <td>0</td>\n",
       "      <td>0</td>\n",
       "      <td>0</td>\n",
       "      <td>0</td>\n",
       "      <td>0</td>\n",
       "      <td>1</td>\n",
       "      <td>0</td>\n",
       "      <td>0</td>\n",
       "      <td>...</td>\n",
       "      <td>0</td>\n",
       "      <td>1</td>\n",
       "      <td>0</td>\n",
       "      <td>0</td>\n",
       "      <td>0</td>\n",
       "      <td>0</td>\n",
       "      <td>1</td>\n",
       "      <td>0</td>\n",
       "      <td>1</td>\n",
       "      <td>0</td>\n",
       "    </tr>\n",
       "    <tr>\n",
       "      <th>Machu Picchu is 13.164 degrees south of the equator.</th>\n",
       "      <td>0</td>\n",
       "      <td>0</td>\n",
       "      <td>1</td>\n",
       "      <td>1</td>\n",
       "      <td>0</td>\n",
       "      <td>0</td>\n",
       "      <td>0</td>\n",
       "      <td>0</td>\n",
       "      <td>0</td>\n",
       "      <td>1</td>\n",
       "      <td>...</td>\n",
       "      <td>0</td>\n",
       "      <td>1</td>\n",
       "      <td>0</td>\n",
       "      <td>0</td>\n",
       "      <td>1</td>\n",
       "      <td>0</td>\n",
       "      <td>1</td>\n",
       "      <td>1</td>\n",
       "      <td>0</td>\n",
       "      <td>1</td>\n",
       "    </tr>\n",
       "    <tr>\n",
       "      <th>The official height of Machu Picchu is 2,430 m.</th>\n",
       "      <td>0</td>\n",
       "      <td>0</td>\n",
       "      <td>1</td>\n",
       "      <td>0</td>\n",
       "      <td>1</td>\n",
       "      <td>0</td>\n",
       "      <td>0</td>\n",
       "      <td>0</td>\n",
       "      <td>0</td>\n",
       "      <td>0</td>\n",
       "      <td>...</td>\n",
       "      <td>1</td>\n",
       "      <td>1</td>\n",
       "      <td>0</td>\n",
       "      <td>0</td>\n",
       "      <td>1</td>\n",
       "      <td>1</td>\n",
       "      <td>1</td>\n",
       "      <td>0</td>\n",
       "      <td>0</td>\n",
       "      <td>1</td>\n",
       "    </tr>\n",
       "    <tr>\n",
       "      <th>Machu Picchu is 80 kilometres (50 miles) northwest of Cusco.</th>\n",
       "      <td>1</td>\n",
       "      <td>1</td>\n",
       "      <td>1</td>\n",
       "      <td>0</td>\n",
       "      <td>0</td>\n",
       "      <td>1</td>\n",
       "      <td>1</td>\n",
       "      <td>0</td>\n",
       "      <td>1</td>\n",
       "      <td>0</td>\n",
       "      <td>...</td>\n",
       "      <td>0</td>\n",
       "      <td>1</td>\n",
       "      <td>1</td>\n",
       "      <td>1</td>\n",
       "      <td>1</td>\n",
       "      <td>0</td>\n",
       "      <td>1</td>\n",
       "      <td>0</td>\n",
       "      <td>0</td>\n",
       "      <td>0</td>\n",
       "    </tr>\n",
       "  </tbody>\n",
       "</table>\n",
       "<p>4 rows × 25 columns</p>\n",
       "</div>"
      ],
      "text/plain": [
       "                                                    (  )  .  13.164  2,430  \\\n",
       "How tall is Machu Picchu?                           0  0  0       0      0   \n",
       "Machu Picchu is 13.164 degrees south of the equ...  0  0  1       1      0   \n",
       "The official height of Machu Picchu is 2,430 m.     0  0  1       0      1   \n",
       "Machu Picchu is 80 kilometres (50 miles) northw...  1  1  1       0      0   \n",
       "\n",
       "                                                    50  80  ?  cusco  degrees  \\\n",
       "How tall is Machu Picchu?                            0   0  1      0        0   \n",
       "Machu Picchu is 13.164 degrees south of the equ...   0   0  0      0        1   \n",
       "The official height of Machu Picchu is 2,430 m.      0   0  0      0        0   \n",
       "Machu Picchu is 80 kilometres (50 miles) northw...   1   1  0      1        0   \n",
       "\n",
       "                                                    ...  m  machu  miles  \\\n",
       "How tall is Machu Picchu?                           ...  0      1      0   \n",
       "Machu Picchu is 13.164 degrees south of the equ...  ...  0      1      0   \n",
       "The official height of Machu Picchu is 2,430 m.     ...  1      1      0   \n",
       "Machu Picchu is 80 kilometres (50 miles) northw...  ...  0      1      1   \n",
       "\n",
       "                                                    northwest  of  official  \\\n",
       "How tall is Machu Picchu?                                   0   0         0   \n",
       "Machu Picchu is 13.164 degrees south of the equ...          0   1         0   \n",
       "The official height of Machu Picchu is 2,430 m.             0   1         1   \n",
       "Machu Picchu is 80 kilometres (50 miles) northw...          1   1         0   \n",
       "\n",
       "                                                    picchu  south  tall  the  \n",
       "How tall is Machu Picchu?                                1      0     1    0  \n",
       "Machu Picchu is 13.164 degrees south of the equ...       1      1     0    1  \n",
       "The official height of Machu Picchu is 2,430 m.          1      0     0    1  \n",
       "Machu Picchu is 80 kilometres (50 miles) northw...       1      0     0    0  \n",
       "\n",
       "[4 rows x 25 columns]"
      ]
     },
     "execution_count": 22,
     "metadata": {},
     "output_type": "execute_result"
    }
   ],
   "source": [
    "### Let's check whether bag of words representation is better\n",
    "bow_df = pd.DataFrame(X.toarray(), columns=sorted(vec.vocabulary_), index=corpus)\n",
    "bow_df"
   ]
  },
  {
   "cell_type": "code",
   "execution_count": 47,
   "metadata": {
    "slideshow": {
     "slide_type": "slide"
    }
   },
   "outputs": [
    {
     "name": "stdout",
     "output_type": "stream",
     "text": [
      "Question: How tall is Machu Picchu? \n",
      "Candidate: Machu Picchu is 13.164 degrees south of the equator. \n",
      "Similarity = 3.000\n",
      "\n",
      "\n",
      "Question: How tall is Machu Picchu? \n",
      "Candidate: The official height of Machu Picchu is 2,430 m. \n",
      "Similarity = 3.000\n",
      "\n",
      "\n",
      "Question: How tall is Machu Picchu? \n",
      "Candidate: Machu Picchu is 80 kilometres (50 miles) northwest of Cusco. \n",
      "Similarity = 3.000\n",
      "\n",
      "\n"
     ]
    }
   ],
   "source": [
    "### Let's examine the similarity between these three documents\n",
    "for i in range(1,4,1):\n",
    "    print('Question: %s \\nCandidate: %s \\nSimilarity = %0.3f\\n\\n' \\\n",
    "                          %(bow_df.index[0],bow_df.index[i], \\\n",
    "                            bow_df.iloc[0].dot(bow_df.iloc[i])))"
   ]
  },
  {
   "cell_type": "markdown",
   "metadata": {
    "slideshow": {
     "slide_type": "slide"
    }
   },
   "source": [
    "### Representation 3: Word embeddings"
   ]
  },
  {
   "cell_type": "markdown",
   "metadata": {
    "slideshow": {
     "slide_type": "slide"
    }
   },
   "source": [
    "### Word2Vec\n",
    "<img src=\"images/word2vec.png\" width=\"700\" height=\"700\">\n"
   ]
  },
  {
   "cell_type": "code",
   "execution_count": 2,
   "metadata": {
    "slideshow": {
     "slide_type": "skip"
    }
   },
   "outputs": [],
   "source": [
    "# Data loading and preprocessing\n",
    "imdb_df = pd.read_csv('../../data/imdb_master.csv', encoding = \"ISO-8859-1\")\n",
    "imdb_df = imdb_df[['review', 'label']]\n",
    "\n",
    "# only consider positive and negative reviews\n",
    "imdb_pos_neg_df = imdb_df[imdb_df['label'].str.startswith(('pos','neg'))]\n",
    "df_train, df_test = train_test_split(imdb_pos_neg_df)"
   ]
  },
  {
   "cell_type": "code",
   "execution_count": 6,
   "metadata": {
    "slideshow": {
     "slide_type": "skip"
    }
   },
   "outputs": [],
   "source": [
    "# Data loading and preprocessing\n",
    "imdb_df = pd.read_csv('../../data/imdb_master.csv', encoding = \"ISO-8859-1\")\n",
    "imdb_df = imdb_df[['review', 'label']]\n",
    "\n",
    "# only consider positive and negative reviews\n",
    "imdb_pos_neg_df = imdb_df[imdb_df['label'].str.startswith(('pos','neg'))]\n",
    "df_train, df_test = train_test_split(imdb_pos_neg_df)"
   ]
  },
  {
   "cell_type": "code",
   "execution_count": 7,
   "metadata": {
    "slideshow": {
     "slide_type": "skip"
    }
   },
   "outputs": [],
   "source": [
    "# A list of reviews labeled as 'pos'\n",
    "pos_corpus = imdb_df[imdb_df['label'] == 'pos']['review'].tolist()\n",
    "\n",
    "# A list of reviews labeled as 'neg'\n",
    "neg_corpus = imdb_df[imdb_df['label'] == 'neg']['review'].tolist()\n",
    "\n",
    "# A list of reviews labeled as 'unsup'\n",
    "unsup_corpus = imdb_df[imdb_df['label'] == 'unsup']['review'].tolist()\n",
    "\n",
    "imdb_pos_neg_corpus = pos_corpus + neg_corpus\n",
    "\n",
    "# A list of all reviews\n",
    "imdb_all_corpus = pos_corpus + neg_corpus + unsup_corpus\n",
    "# END STARTER CODE"
   ]
  },
  {
   "cell_type": "markdown",
   "metadata": {
    "slideshow": {
     "slide_type": "slide"
    }
   },
   "source": [
    "### Word representation using a dictionary \n",
    "\n",
    "- [WordNet](https://wordnet.princeton.edu/)\n",
    "- A lexical database of English (and other languages) \n",
    "<center>\n",
    "<img src=\"files/images/wordnet_graph.png\" width=\"700\" height=\"700\">\n",
    "</center>"
   ]
  },
  {
   "cell_type": "markdown",
   "metadata": {
    "slideshow": {
     "slide_type": "slide"
    }
   },
   "source": [
    "### Sparsity problem of WordNet\n",
    "\n",
    "- A static resource\n",
    "- 10+ years of work by a number of linguists but still incomplete\n",
    "- Not useful in specialized domains\n",
    "\n",
    "Is it possible to build a non-static representation of words that can work for a variety of domains? "
   ]
  },
  {
   "cell_type": "markdown",
   "metadata": {
    "slideshow": {
     "slide_type": "slide"
    }
   },
   "source": [
    "### Questions?"
   ]
  },
  {
   "cell_type": "code",
   "execution_count": 39,
   "metadata": {
    "slideshow": {
     "slide_type": "skip"
    }
   },
   "outputs": [
    {
     "name": "stdout",
     "output_type": "stream",
     "text": [
      "Synset('bank.n.01') sloping land (especially the slope beside a body of water)\n",
      "Synset('depository_financial_institution.n.01') a financial institution that accepts deposits and channels the money into lending activities\n",
      "Synset('bank.n.03') a long ridge or pile\n",
      "Synset('bank.n.04') an arrangement of similar objects in a row or in tiers\n",
      "Synset('bank.n.05') a supply or stock held in reserve for future use (especially in emergencies)\n",
      "Synset('bank.n.06') the funds held by a gambling house or the dealer in some gambling games\n",
      "Synset('bank.n.07') a slope in the turn of a road or track; the outside is higher than the inside in order to reduce the effects of centrifugal force\n",
      "Synset('savings_bank.n.02') a container (usually with a slot in the top) for keeping money at home\n",
      "Synset('bank.n.09') a building in which the business of banking transacted\n",
      "Synset('bank.n.10') a flight maneuver; aircraft tips laterally about its longitudinal axis (especially in turning)\n",
      "\n",
      "Meaning of the word bank in different contexts.\n",
      "----------------------\n",
      "Synset('depository_financial_institution.n.01')\n",
      "Synset('bank.n.01')\n",
      "\n",
      "Meaning of the word bank in different contexts.\n",
      "----------------------\n",
      "Synset('savings_bank.n.02')\n",
      "Synset('savings_bank.n.02')\n"
     ]
    }
   ],
   "source": [
    "from nltk.corpus import wordnet as wn\n",
    "from nltk.wsd import lesk\n",
    "# Shows definitions of different senses of the word **bank**\n",
    "for ss in wn.synsets('bank','n'):\n",
    "    print(ss, ss.definition())\n",
    "# What's the meaning of the word bank in each context\n",
    "print('\\nMeaning of the word bank in different contexts.')®\n",
    "print('----------------------')\n",
    "print(lesk('bank deposits money'.split(), 'bank', 'n'))\n",
    "print(lesk('body bank water'.split(), 'bank', 'n'))\n",
    "print('\\nMeaning of the word bank in different contexts.')\n",
    "print('----------------------')\n",
    "print(lesk('bank deposit money'.split(), 'bank', 'n'))\n",
    "print(lesk('river bank water'.split(), 'bank', 'n'))"
   ]
  },
  {
   "cell_type": "markdown",
   "metadata": {
    "slideshow": {
     "slide_type": "slide"
    }
   },
   "source": [
    "### Vector space model\n",
    "\n",
    "- Model the meaning of a word by placing it into a vector space.  \n",
    "- Distances among words in the vector space indicate the relationship between them. \n",
    "\n",
    "<center>\n",
    "<img src=\"files/images/t-SNE_word_embeddings.png\" width=\"700\" height=\"700\">\n",
    "    (Attribution: Jurafsky and Martin 3rd edition)\n",
    "</center>\n",
    "\n"
   ]
  },
  {
   "cell_type": "markdown",
   "metadata": {
    "slideshow": {
     "slide_type": "slide"
    }
   },
   "source": [
    "### Co-occurrence matrices\n",
    "- A way to represent vectors into a vector space\n",
    "\n",
    "#### Term-document matrix\n",
    "\n",
    "- You have seen a transpose of this when you used `CountVectorizer` in DSCI 571. \n",
    "- Each cell is a count of words in the document in that column. \n",
    "- You can describe a document in terms of the frequencies of different words in it. \n",
    "- You can describe a word in terms of its frequency in different documents. "
   ]
  },
  {
   "cell_type": "code",
   "execution_count": 13,
   "metadata": {
    "slideshow": {
     "slide_type": "slide"
    }
   },
   "outputs": [
    {
     "data": {
      "text/html": [
       "<div>\n",
       "<style>\n",
       "    .dataframe thead tr:only-child th {\n",
       "        text-align: right;\n",
       "    }\n",
       "\n",
       "    .dataframe thead th {\n",
       "        text-align: left;\n",
       "    }\n",
       "\n",
       "    .dataframe tbody tr th {\n",
       "        vertical-align: top;\n",
       "    }\n",
       "</style>\n",
       "<table border=\"1\" class=\"dataframe\">\n",
       "  <thead>\n",
       "    <tr style=\"text-align: right;\">\n",
       "      <th></th>\n",
       "      <th>D1</th>\n",
       "      <th>D2</th>\n",
       "      <th>D3</th>\n",
       "      <th>D4</th>\n",
       "      <th>D5</th>\n",
       "    </tr>\n",
       "  </thead>\n",
       "  <tbody>\n",
       "    <tr>\n",
       "      <th>apricot</th>\n",
       "      <td>0</td>\n",
       "      <td>0</td>\n",
       "      <td>1</td>\n",
       "      <td>0</td>\n",
       "      <td>0</td>\n",
       "    </tr>\n",
       "    <tr>\n",
       "      <th>big</th>\n",
       "      <td>1</td>\n",
       "      <td>0</td>\n",
       "      <td>1</td>\n",
       "      <td>0</td>\n",
       "      <td>1</td>\n",
       "    </tr>\n",
       "    <tr>\n",
       "      <th>data</th>\n",
       "      <td>1</td>\n",
       "      <td>0</td>\n",
       "      <td>0</td>\n",
       "      <td>1</td>\n",
       "      <td>1</td>\n",
       "    </tr>\n",
       "    <tr>\n",
       "      <th>information</th>\n",
       "      <td>1</td>\n",
       "      <td>0</td>\n",
       "      <td>0</td>\n",
       "      <td>1</td>\n",
       "      <td>1</td>\n",
       "    </tr>\n",
       "    <tr>\n",
       "      <th>sugar</th>\n",
       "      <td>0</td>\n",
       "      <td>1</td>\n",
       "      <td>0</td>\n",
       "      <td>0</td>\n",
       "      <td>0</td>\n",
       "    </tr>\n",
       "    <tr>\n",
       "      <th>walnut</th>\n",
       "      <td>0</td>\n",
       "      <td>1</td>\n",
       "      <td>0</td>\n",
       "      <td>0</td>\n",
       "      <td>0</td>\n",
       "    </tr>\n",
       "  </tbody>\n",
       "</table>\n",
       "</div>"
      ],
      "text/plain": [
       "             D1  D2  D3  D4  D5\n",
       "apricot       0   0   1   0   0\n",
       "big           1   0   1   0   1\n",
       "data          1   0   0   1   1\n",
       "information   1   0   0   1   1\n",
       "sugar         0   1   0   0   0\n",
       "walnut        0   1   0   0   0"
      ]
     },
     "execution_count": 13,
     "metadata": {},
     "output_type": "execute_result"
    }
   ],
   "source": [
    "corpus = ['information big data',\n",
    "        'walnut sugar',\n",
    "        'apricot big',\n",
    "        'information data',\n",
    "        'big data information']\n",
    "vectorizer = CountVectorizer()\n",
    "X = vectorizer.fit_transform(corpus)\n",
    "header = vectorizer.get_feature_names()\n",
    "labels = ['D1', 'D2', 'D3', 'D4', 'D5']\n",
    "df = pd.DataFrame(X.toarray(), columns = header, index = labels)  \n",
    "df.transpose()"
   ]
  },
  {
   "cell_type": "markdown",
   "metadata": {
    "slideshow": {
     "slide_type": "slide"
    }
   },
   "source": [
    "### Term-term matrix\n",
    "\n",
    "- The idea is to go through a corpus of text, keeping a count of all of the words that appear in its context within a window."
   ]
  },
  {
   "cell_type": "code",
   "execution_count": 14,
   "metadata": {
    "slideshow": {
     "slide_type": "slide"
    }
   },
   "outputs": [
    {
     "data": {
      "text/html": [
       "<div>\n",
       "<style>\n",
       "    .dataframe thead tr:only-child th {\n",
       "        text-align: right;\n",
       "    }\n",
       "\n",
       "    .dataframe thead th {\n",
       "        text-align: left;\n",
       "    }\n",
       "\n",
       "    .dataframe tbody tr th {\n",
       "        vertical-align: top;\n",
       "    }\n",
       "</style>\n",
       "<table border=\"1\" class=\"dataframe\">\n",
       "  <thead>\n",
       "    <tr style=\"text-align: right;\">\n",
       "      <th></th>\n",
       "      <th>apricot</th>\n",
       "      <th>big</th>\n",
       "      <th>data</th>\n",
       "      <th>information</th>\n",
       "      <th>sugar</th>\n",
       "      <th>walnut</th>\n",
       "    </tr>\n",
       "  </thead>\n",
       "  <tbody>\n",
       "    <tr>\n",
       "      <th>apricot</th>\n",
       "      <td>0</td>\n",
       "      <td>1</td>\n",
       "      <td>0</td>\n",
       "      <td>0</td>\n",
       "      <td>0</td>\n",
       "      <td>0</td>\n",
       "    </tr>\n",
       "    <tr>\n",
       "      <th>big</th>\n",
       "      <td>1</td>\n",
       "      <td>0</td>\n",
       "      <td>2</td>\n",
       "      <td>2</td>\n",
       "      <td>0</td>\n",
       "      <td>0</td>\n",
       "    </tr>\n",
       "    <tr>\n",
       "      <th>data</th>\n",
       "      <td>0</td>\n",
       "      <td>2</td>\n",
       "      <td>0</td>\n",
       "      <td>3</td>\n",
       "      <td>0</td>\n",
       "      <td>0</td>\n",
       "    </tr>\n",
       "    <tr>\n",
       "      <th>information</th>\n",
       "      <td>0</td>\n",
       "      <td>2</td>\n",
       "      <td>3</td>\n",
       "      <td>0</td>\n",
       "      <td>0</td>\n",
       "      <td>0</td>\n",
       "    </tr>\n",
       "    <tr>\n",
       "      <th>sugar</th>\n",
       "      <td>0</td>\n",
       "      <td>0</td>\n",
       "      <td>0</td>\n",
       "      <td>0</td>\n",
       "      <td>0</td>\n",
       "      <td>1</td>\n",
       "    </tr>\n",
       "    <tr>\n",
       "      <th>walnut</th>\n",
       "      <td>0</td>\n",
       "      <td>0</td>\n",
       "      <td>0</td>\n",
       "      <td>0</td>\n",
       "      <td>1</td>\n",
       "      <td>0</td>\n",
       "    </tr>\n",
       "  </tbody>\n",
       "</table>\n",
       "</div>"
      ],
      "text/plain": [
       "             apricot  big  data  information  sugar  walnut\n",
       "apricot            0    1     0            0      0       0\n",
       "big                1    0     2            2      0       0\n",
       "data               0    2     0            3      0       0\n",
       "information        0    2     3            0      0       0\n",
       "sugar              0    0     0            0      0       1\n",
       "walnut             0    0     0            0      1       0"
      ]
     },
     "execution_count": 14,
     "metadata": {},
     "output_type": "execute_result"
    }
   ],
   "source": [
    "corpus = ['information big data',\n",
    "        'walnut sugar',\n",
    "        'apricot big',\n",
    "        'information data',\n",
    "        'big data information']\n",
    "vec = CountVectorizer(ngram_range=(1,1)) \n",
    "X = vec.fit_transform(corpus)\n",
    "X_ww = (X.T.dot(X)) \n",
    "X_ww.setdiag(0) \n",
    "header = vec.get_feature_names()\n",
    "ind_col = header\n",
    "df = pd.DataFrame(X_ww.toarray(), columns = header, index = ind_col)  \n",
    "df"
   ]
  },
  {
   "cell_type": "code",
   "execution_count": 95,
   "metadata": {
    "slideshow": {
     "slide_type": "skip"
    }
   },
   "outputs": [
    {
     "data": {
      "text/html": [
       "<div>\n",
       "<style>\n",
       "    .dataframe thead tr:only-child th {\n",
       "        text-align: right;\n",
       "    }\n",
       "\n",
       "    .dataframe thead th {\n",
       "        text-align: left;\n",
       "    }\n",
       "\n",
       "    .dataframe tbody tr th {\n",
       "        vertical-align: top;\n",
       "    }\n",
       "</style>\n",
       "<table border=\"1\" class=\"dataframe\">\n",
       "  <thead>\n",
       "    <tr style=\"text-align: right;\">\n",
       "      <th></th>\n",
       "      <th>big</th>\n",
       "      <th>data</th>\n",
       "    </tr>\n",
       "  </thead>\n",
       "  <tbody>\n",
       "    <tr>\n",
       "      <th>information</th>\n",
       "      <td>2</td>\n",
       "      <td>3</td>\n",
       "    </tr>\n",
       "    <tr>\n",
       "      <th>sugar</th>\n",
       "      <td>0</td>\n",
       "      <td>0</td>\n",
       "    </tr>\n",
       "    <tr>\n",
       "      <th>walnut</th>\n",
       "      <td>1</td>\n",
       "      <td>0</td>\n",
       "    </tr>\n",
       "  </tbody>\n",
       "</table>\n",
       "</div>"
      ],
      "text/plain": [
       "             big  data\n",
       "information    2     3\n",
       "sugar          0     0\n",
       "walnut         1     0"
      ]
     },
     "execution_count": 95,
     "metadata": {},
     "output_type": "execute_result"
    }
   ],
   "source": [
    "df_subset = df[['big','data']]\n",
    "df_subset.iloc[2:]"
   ]
  },
  {
   "cell_type": "markdown",
   "metadata": {
    "slideshow": {
     "slide_type": "slide"
    }
   },
   "source": [
    "### Visualizing word vectors and angles\n",
    "\n",
    "<img src=\"images/word_vectors_and_angles.png\" width=\"800\" height=\"400\">\n",
    "(Credit: Jurafsky and Martin 3rd edition)\n",
    "\n",
    "$similarity_{cosine}(\\vec{w_1},\\vec{w_2}) = \\frac{\\vec{w_1}.\\vec{w_2}}{\\left\\lVert w_1\\right\\rVert \\left\\lVert w_2\\right\\rVert}$  "
   ]
  },
  {
   "cell_type": "markdown",
   "metadata": {
    "slideshow": {
     "slide_type": "slide"
    }
   },
   "source": [
    "### Visualizing word vectors and angles\n",
    "\n",
    "<img src=\"images/word_vectors_and_angles.png\" width=\"600\" height=\"600\">\n",
    "(Credit: Jurafsky and Martin 3rd edition)\n",
    "\n",
    "$similarity_{cosine}(\\vec{\\text{digital}},\\vec{\\text{information}}) = \\frac{0 \\times 1 + 1 \\times 6}{\\sqrt{1} \\sqrt{1 + 36}} = 0.98$\n",
    "\n",
    "$similarity_{cosine}(\\vec{\\text{apricot}},\\vec{\\text{information}}) = \\frac{2 \\times 1 + 0 \\times 6}{\\sqrt{4}\\sqrt{1 + 36}} = 0.16$\n"
   ]
  },
  {
   "cell_type": "markdown",
   "metadata": {
    "slideshow": {
     "slide_type": "slide"
    }
   },
   "source": [
    "### Questions?"
   ]
  },
  {
   "cell_type": "markdown",
   "metadata": {
    "slideshow": {
     "slide_type": "slide"
    }
   },
   "source": [
    "### Sparse vs. dense word vectors\n",
    "\n",
    "- Term-term and term-document matrices are sparse. \n",
    "- OK because there are efficient ways to deal with sparse matrices.\n",
    "\n",
    "\n",
    "### Alternative \n",
    "- Learn short (~100 to 1000 dimensions) and dense vectors. \n",
    "- These short dense representations of words are referred to as **word embeddings**.\n",
    "- Short vectors may be easier to train with ML models (less weights to train).\n",
    "- They may generalize better."
   ]
  },
  {
   "cell_type": "markdown",
   "metadata": {
    "slideshow": {
     "slide_type": "slide"
    }
   },
   "source": [
    "### How can we get dense vectors?\n",
    " \n",
    "- Count-based methods\n",
    "    - Singular Value Decomposition (SVD)\n",
    "- Prediction-based methods\n",
    "    - [Word2Vec](https://github.com/tmikolov/word2vec)\n",
    "    - [fastText](https://fasttext.cc/)\n",
    "    - [GloVe](https://nlp.stanford.edu/projects/glove/)"
   ]
  },
  {
   "cell_type": "markdown",
   "metadata": {
    "slideshow": {
     "slide_type": "skip"
    }
   },
   "source": [
    "## SVD\n",
    "\n",
    "- A matrix factorization algorithm\n",
    "\n",
    "   * Reduces a high-dimensional, highly variable dataset to a lower-dimensional space\n",
    "   * Captures the substructure of the data more clearly \n",
    "   * Highest order dimension captures most variance in the original dataset\n",
    "   * Next dimension captures the next most variance\n"
   ]
  },
  {
   "cell_type": "markdown",
   "metadata": {
    "slideshow": {
     "slide_type": "skip"
    }
   },
   "source": [
    "## SVD \n",
    "- Let’s apply it to our term-term matrix $X$\n",
    "\n",
    "<center>\n",
    "$X_{V \\times c} = W_{V \\times m} \\times \\sum_{m \\times m} \\times C^T_{m \\times c}$\n",
    "</center>   \n",
    "\n",
    "where, \n",
    "- $m$ is the rank of the matrix $X$\n",
    "- Rows of $W$ are the new dense word vectors\n",
    "- Rows of $C$ (columns of $C^T$) are the new context vectors. \n",
    "- $\\sum$ is a diagonal matrix of the singular values of $X$ (the square root of the eigenvalues of $X^TX$, arranged from highest to lowest)"
   ]
  },
  {
   "cell_type": "markdown",
   "metadata": {
    "slideshow": {
     "slide_type": "skip"
    }
   },
   "source": [
    "## Truncated SVD \n",
    "- Throw out some of the singular values in $\\sum$\n",
    "\n",
    "<center>\n",
    "$X_{V \\times c} = W_{V \\times k} \\times \\sum_{k \\times k} \\times C^T_{k \\times c}$\n",
    "</center>   \n"
   ]
  },
  {
   "cell_type": "code",
   "execution_count": 8,
   "metadata": {
    "slideshow": {
     "slide_type": "skip"
    }
   },
   "outputs": [],
   "source": [
    "from sklearn.decomposition import TruncatedSVD\n",
    "from sklearn.random_projection import sparse_random_matrix\n",
    "\n",
    "vec = CountVectorizer(ngram_range=(1,1), tokenizer=nltk.word_tokenize) \n",
    "X = vec.fit_transform(df_test['review'])\n",
    "X_ww = (X.T.dot(X)) \n",
    "X_ww.setdiag(0) \n",
    "header = vec.get_feature_names()\n",
    "ind_col = header\n",
    "df = pd.DataFrame(X_ww.toarray(), columns = header, index = ind_col)  \n",
    "#df"
   ]
  },
  {
   "cell_type": "code",
   "execution_count": 28,
   "metadata": {
    "slideshow": {
     "slide_type": "skip"
    }
   },
   "outputs": [],
   "source": [
    "svd = TruncatedSVD(n_components=50, n_iter=7, random_state=42)\n",
    "svd.fit(X_ww)\n",
    "embedding_matrix = svd.transform(X_ww)\n",
    "embedding_matrix[0]\n",
    "# Show embedding for a specific word"
   ]
  },
  {
   "cell_type": "markdown",
   "metadata": {
    "slideshow": {
     "slide_type": "slide"
    }
   },
   "source": [
    "### Success of Word2Vec\n",
    "\n",
    "- Able to capture complex relationships between words.\n",
    "- Example: What is the word that is similar to **WOMAN** in the same sense as **KING** is similar to **MAN**?\n",
    "- Perform a simple algebraic operations with the vector representation of words.\n",
    "    $\\vec{X} = \\vec{\\text{KING}} − \\vec{\\text{MAN}} + \\vec{\\text{WOMAN}}$\n",
    "- Search in the vector space for the word closest to $\\vec{X}$ measured by cosine distance.\n",
    "\n",
    "<img src=\"files/images/word_analogies1.png\" width=\"500\" height=\"500\">\n",
    "(Credit: Mikolov et al. 2013)    \n"
   ]
  },
  {
   "cell_type": "markdown",
   "metadata": {
    "slideshow": {
     "slide_type": "slide"
    }
   },
   "source": [
    "### Questions? "
   ]
  },
  {
   "cell_type": "markdown",
   "metadata": {
    "slideshow": {
     "slide_type": "slide"
    }
   },
   "source": [
    "### Word2Vec \n",
    "\n",
    "- A family of models to get word vectors.\n",
    "- We will focus on the continuous skip-gram model.\n",
    "- Create a fake word prediction task. \n",
    "- Learn embeddings as part of the process of word prediction. \n",
    "- Use the learned weights as embeddings for the word. \n",
    "- No annotated data required!!"
   ]
  },
  {
   "cell_type": "markdown",
   "metadata": {
    "slideshow": {
     "slide_type": "slide"
    }
   },
   "source": [
    "### Fake word-prediction task \n",
    "\n",
    "<center>\n",
    "<blockquote>\n",
    "    Add freshly squeezed <b>pineapple</b> juice to your smoothie. \n",
    "</blockquote> \n",
    "</center>\n",
    "\n",
    "- Is the word **juice** likely to occur in the context of **pineapple**? \n"
   ]
  },
  {
   "cell_type": "markdown",
   "metadata": {
    "slideshow": {
     "slide_type": "slide"
    }
   },
   "source": [
    "### Context words and target word\n",
    "\n",
    "- Given a *target* word, we define a **context window** and predict each word in the given context window.\n",
    "- If the context window is $n$, consider $n$ preceding and $n$ following words of the target word.\n",
    "- Example \n",
    "    * Sequence of words &rarr;  $w_{t-3}, w_{t-2}, w_{t-1}, w_t, w_{t+1}, w_{t+2}$\n",
    "    * Target word &rarr; $w_t$\n",
    "    * $n=2$\n",
    "    * Context words &rarr;  $w_{t-2}, w_{t-1}, w_{t+1}, w_{t+2}$.\n",
    "- Context window does not usually cross sentence boundaries. "
   ]
  },
  {
   "cell_type": "markdown",
   "metadata": {
    "slideshow": {
     "slide_type": "slide"
    }
   },
   "source": [
    "### Context words and target word\n",
    "\n",
    "<center>\n",
    "<blockquote>\n",
    "    Add freshly squeezed <b>pineapple</b> juice to your smoothie . It will make your smoothie extra special . \n",
    "</blockquote> \n",
    "</center>\n",
    "\n",
    "- What are the context words of the target word **pineapple** with the window size 2? \n",
    "- What are the context words of the target word **smoothie** with the window size 2?"
   ]
  },
  {
   "cell_type": "markdown",
   "metadata": {
    "slideshow": {
     "slide_type": "slide"
    }
   },
   "source": [
    "### Questions? "
   ]
  },
  {
   "cell_type": "markdown",
   "metadata": {
    "slideshow": {
     "slide_type": "slide"
    }
   },
   "source": [
    "### Goal\n",
    "\n",
    "Given a corpus with vocabulary of size $V$, where a word $w_i$ is identified by its index $i \\in {1, ..., V}$, learn a vector representation for each $w_i$ by predicting the words that appear in its context. "
   ]
  },
  {
   "cell_type": "markdown",
   "metadata": {
    "slideshow": {
     "slide_type": "slide"
    }
   },
   "source": [
    "### Continuous skip-gram objective\n",
    "- Consider the conditional probabilities $p(w_c|w_t)$ and set the parameters $\\theta$ of $p(w_c|w_t; \\theta)$ so as to maximize the corpus probability. \n",
    "\n",
    "<center>\n",
    "$\n",
    "\\arg\\max\\limits_{\\substack{\\theta}} \\prod\\limits_{\\substack{t=1}}^{\\substack{T}}\\prod\\limits_{\\substack{-m \\leq c \\leq +m \\\\ c\\neq0}} p(w_c|w_t;\\theta)\\\\\n",
    "\\arg \\max\\limits_\\theta \\prod\\limits_{(w_c,w_t) \\in D} p(w_c|w_t;\\theta)\n",
    "$\n",
    "</center>\n",
    "\n",
    "- $w_t$ &rarr; target word, $m$ &rarr; the context window size\n",
    "- $D$ is the set of all word and context pairs from the text. "
   ]
  },
  {
   "cell_type": "markdown",
   "metadata": {
    "slideshow": {
     "slide_type": "slide"
    }
   },
   "source": [
    "### Modeling conditional probability\n",
    "\n",
    "- Model the conditional probability using softmax of the dot product.\n",
    "    * Higher the dot product higher the probability and vice-versa.     \n",
    "    \n",
    "<center>\n",
    "$P(w_c|w_t;\\theta) = \\frac{exp(\\vec{w_c}.\\vec{w_t})}{\\sum\\limits_{\\substack{c' \\in V}} exp(\\vec{w_{c'}}.\\vec{w_t})}\\\\\n",
    "$\n",
    "</center>    "
   ]
  },
  {
   "cell_type": "markdown",
   "metadata": {
    "slideshow": {
     "slide_type": "slide"
    }
   },
   "source": [
    "### Continuous skip-gram objective\n",
    "   \n",
    "<center>\n",
    "$    \n",
    "\\arg \\max\\limits_\\theta \\prod\\limits_{(w_c,w_t) \\in D} p(w_c|w_t;\\theta) \\approx \\prod\\limits_{(w_c,w_t) \\in D}\\frac{exp(\\vec{w_c}.\\vec{w_t})}{\\sum\\limits_{\\substack{c' \\in V}} exp(\\vec{w_{c'}}.\\vec{w_t})}\\\\\n",
    "\\arg \\max\\limits_\\theta \\sum\\limits_{(w_c,w_t) \\in D} log\\mbox{ }p(w_c|w_t;\\theta) \\approx \\sum\\limits_{(w_c,w_t) \\in D} (log\\mbox{ }exp(\\vec{w_c}.\\vec{w_t})  - log \\sum\\limits_{\\substack{c' \\in V}} exp(\\vec{w_{c'}}.\\vec{w_t}))\n",
    "$    \n",
    "</center>    \n",
    "\n",
    "\n",
    "- Assumption: Maximizing this objective will results in good embeddings for all words in the vocabulary. \n",
    "- Learn two embeddings for each word: context embedding and target embedding. "
   ]
  },
  {
   "cell_type": "markdown",
   "metadata": {
    "slideshow": {
     "slide_type": "slide"
    }
   },
   "source": [
    "### Parameters of the model\n",
    "\n",
    "- Suppose $V = 10,000$, $d = 300$, the number of parameters to learn are 6,000,000! \n",
    "\n",
    "<center>\n",
    "$\n",
    "\\theta = \n",
    "\\begin{bmatrix} aardvark_t\\\\\n",
    "                aback_t\\\\\n",
    "                \\dots\\\\\n",
    "                zymurgi_t\\\\\n",
    "                aardvark_c\\\\\n",
    "                aback_c\\\\                \n",
    "                \\dots\\\\\n",
    "                zymurgi_c\\\\                \n",
    "\\end{bmatrix} \\in R^{2dV}\n",
    "$\n",
    "</center>"
   ]
  },
  {
   "cell_type": "markdown",
   "metadata": {
    "slideshow": {
     "slide_type": "slide"
    }
   },
   "source": [
    "<img src=\"images/skip-gram.png\" width=\"1000\" height=\"1000\">\n"
   ]
  },
  {
   "cell_type": "markdown",
   "metadata": {
    "slideshow": {
     "slide_type": "slide"
    }
   },
   "source": [
    "### Questions? "
   ]
  },
  {
   "cell_type": "markdown",
   "metadata": {
    "slideshow": {
     "slide_type": "slide"
    }
   },
   "source": [
    "### Problem with this model\n",
    "\n",
    "<center>\n",
    "$P(w_c|w_t;\\theta) = \\frac{exp(\\vec{w_c}.\\vec{w_t})}{\\sum\\limits_{\\substack{c' \\in V}} exp(\\vec{w_{c'}}.\\vec{w_t})}$\n",
    "</center>\n",
    "\n",
    "- Computationally expensive to calculate $\\vec{w_c}.\\vec{w_t}$"
   ]
  },
  {
   "cell_type": "markdown",
   "metadata": {
    "slideshow": {
     "slide_type": "slide"
    }
   },
   "source": [
    "### Continuous skip-gram with negative sampling (SGNS)\n",
    "\n",
    "- Frame the problem of predicting context words as a set of independent binary classification tasks. \n",
    "    * Is the context word $w_c$ likely to show up near the target word $w_t$?\n",
    "    * Example: Is _juice_ likely to show up near _pineapple_?\n",
    "- Create positive samples using context words and negative samples using 'noise' words. "
   ]
  },
  {
   "cell_type": "markdown",
   "metadata": {
    "slideshow": {
     "slide_type": "slide"
    }
   },
   "source": [
    "### Continuous skip-gram with negative sampling (SGNS)\n",
    "\n",
    "- A 'noise' word is a random word from the vocabulary, constrained not to be the target word. \n",
    "- SGNS uses more noise words than context words; the ratio is set by a parameter. \n",
    "\n",
    "<blockquote>\n",
    "<p>Add freshly <b>squeezed pineapple juice</b> in your smoothie.</p>\n",
    "</blockquote>\n",
    "<img src=\"images/negative_sampling.png\" width=\"800\" height=\"500\">"
   ]
  },
  {
   "cell_type": "markdown",
   "metadata": {
    "slideshow": {
     "slide_type": "slide"
    }
   },
   "source": [
    "### SGNS classifier\n",
    "\n",
    "Given: target $w_t$ and context $w_c$\n",
    "- The classifier gives the probability of the class being positive. \n",
    "$P(+|w_t,w_c)$ \n",
    "- How to calculate this probability?\n",
    "    * Based on the dot product similarity\n",
    "    * $w_t$ and $w_c$ are similar $\\vec{w_t}.\\vec{w_c}$ is high\n",
    "    * Use sigmoid to convert it into probabilities \n",
    "       "
   ]
  },
  {
   "cell_type": "markdown",
   "metadata": {
    "slideshow": {
     "slide_type": "slide"
    }
   },
   "source": [
    "### SGNS classifier\n",
    "\n",
    "Probabilistic classifier that assigns a probability to a target word and context window based on how similar the context widow is to the target word. \n",
    "\n",
    "$P(+|w_t,w_c) = \\sigma(\\vec{w_t}.\\vec{w_c}) = \\frac{1}{1+ exp(-\\vec{w_t}.\\vec{w_c})}$ \n",
    "\n",
    "$P(-|w_t,w_c) = 1 - P(+|w_t,w_c) = \\frac{exp(-\\vec{w_t}.\\vec{w_c})}{1 + exp(\\vec{w_t}.\\vec{w_c})}$ \n",
    "\n",
    "For $k$ context words: Independence assumption\n",
    "\n",
    "$P(+|w_t,w_{c_{1:k}}) \\approx \\prod\\limits_{i=1}^{k}\\frac{1}{1+ exp(-\\vec{w_t}.\\vec{w_{c_i}})} \\approx \\sum\\limits_{i=1}^{k} log \\frac{1}{1+ exp(-\\vec{w_t}.\\vec{w_{c_i}})}$ \n",
    "\n"
   ]
  },
  {
   "cell_type": "markdown",
   "metadata": {
    "slideshow": {
     "slide_type": "slide"
    }
   },
   "source": [
    "### Learning embeddings\n",
    "\n",
    "We can use this classifier if we had learned embeddings. \n",
    "\n",
    "How do we learn embeddings? "
   ]
  },
  {
   "cell_type": "markdown",
   "metadata": {
    "slideshow": {
     "slide_type": "slide"
    }
   },
   "source": [
    "### Learning objective\n",
    "\n",
    "- Maximize the dot product of the target word with the actual context word.\n",
    "- Minimize the dot product of the target word with the 'noise' context word.  \n",
    "\n",
    "<center>\n",
    "$L(\\theta) = \\sum\\limits_{w_t,w_c \\in +} P(+|w_t,w_c) + \\sum\\limits_{w_t,w_c \\in -} P(-|w_t,w_c)$\n",
    "</center>"
   ]
  },
  {
   "cell_type": "markdown",
   "metadata": {
    "slideshow": {
     "slide_type": "slide"
    }
   },
   "source": [
    "### Learning objective\n",
    "\n",
    "- For one positive and $k$ negative examples: \n",
    "\n",
    "<center>\n",
    "$log \\frac{1}{1+exp(-\\vec{w_t}.\\vec{w_c})} + \\sum\\limits_{i = 1}^{k} log \\frac{1}{1+exp(\\vec{w_t}.\\vec{w_c}_i)}$\n",
    "</center>\n",
    "\n",
    "- Train the objective with stocastic gradient descent.\n",
    "    * Iteratively modify the embeddings for each word and each context word or noise word to maximize the objective"
   ]
  },
  {
   "cell_type": "markdown",
   "metadata": {
    "slideshow": {
     "slide_type": "slide"
    }
   },
   "source": [
    "### Questions? "
   ]
  },
  {
   "cell_type": "markdown",
   "metadata": {
    "slideshow": {
     "slide_type": "slide"
    }
   },
   "source": [
    "### Main hyperparameters of the model\n",
    "\n",
    "- Dimensionality of the word vectors \n",
    "- Window size\n",
    "    * shorter window: more syntactic representation\n",
    "    * longer window: more semantic representation \n",
    "    * Mikolov et al. (2015) suggest setting this parameter in the range 5 to 20 for small training datasets and in the range 2 to 5 for large training datasets. \n",
    "    \n",
    "- Number of 'noise' samples\n",
    "    * the number of noise examples to extract"
   ]
  },
  {
   "cell_type": "code",
   "execution_count": 111,
   "metadata": {
    "slideshow": {
     "slide_type": "skip"
    }
   },
   "outputs": [
    {
     "name": "stderr",
     "output_type": "stream",
     "text": [
      "Using TensorFlow backend.\n"
     ]
    },
    {
     "name": "stdout",
     "output_type": "stream",
     "text": [
      "Vocabulary Size: 104\n",
      "Vocabulary Sample: [('in', 1), ('data', 2), ('of', 3), ('to', 4), ('a', 5), ('and', 6), ('the', 7), ('you', 8), ('is', 9), ('order', 10)]\n"
     ]
    }
   ],
   "source": [
    "from keras.preprocessing import text\n",
    "\n",
    "corpus = [\n",
    "          \"How do you cause people to believe in an imagined order such as Christianity, democracy or capitalism? You could never convince a monkey to give you a banana by promising him limitless bananas after death in monkey heaven.\",\n",
    "          \"Data science is a multidisciplinary blend of data inference, algorithmm development, and technology in order to solve analytically complex problems.\",\n",
    "          \"In the world of data science, raw data comes in many forms and sizes. There is a lot of information that can be extracted from this raw data.\",          \n",
    "          \"One of history’s few iron laws is that luxuries tend to become necessities and to spawn new obligations.\",\n",
    "          \"The capitalist and consumerist ethics are two sides of the same coin, a merger of two commandments.\",\n",
    "          \"The book introduces the core libraries essential for working with data in Python: particularly IPython, NumPy, Pandas, Matplotlib, Scikit-Learn, and related packages.\"\n",
    "         ]\n",
    "\n",
    "tokenizer = text.Tokenizer()\n",
    "tokenizer.fit_on_texts(corpus)\n",
    "\n",
    "word2id = tokenizer.word_index\n",
    "id2word = {v:k for k, v in word2id.items()}\n",
    "\n",
    "vocab_size = len(word2id) + 1 \n",
    "embed_size = 100\n",
    "\n",
    "wids = [[word2id[w] for w in text.text_to_word_sequence(doc)] for doc in corpus]\n",
    "print('Vocabulary Size:', vocab_size)\n",
    "print('Vocabulary Sample:', list(word2id.items())[:10])"
   ]
  },
  {
   "cell_type": "code",
   "execution_count": 112,
   "metadata": {
    "slideshow": {
     "slide_type": "slide"
    }
   },
   "outputs": [
    {
     "name": "stdout",
     "output_type": "stream",
     "text": [
      "(people (19), believe (20)) -> 1\n",
      "(cause (18), related (102)) -> 0\n",
      "(as (24), history’s (66)) -> 0\n",
      "(in (1), order (10)) -> 0\n",
      "(give (32), capitalism (28)) -> 1\n",
      "(in (1), as (24)) -> 1\n",
      "(capitalism (28), you (8)) -> 1\n",
      "(imagined (22), learn (101)) -> 0\n",
      "(imagined (22), you (8)) -> 1\n",
      "(a (5), monkey (11)) -> 1\n"
     ]
    }
   ],
   "source": [
    "from keras.preprocessing.sequence import skipgrams\n",
    "# generate skip-grams\n",
    "skip_grams = [skipgrams(wid, vocabulary_size=vocab_size, window_size=10) for wid in wids]\n",
    "\n",
    "# view sample skip-grams\n",
    "pairs, labels = skip_grams[0][0], skip_grams[0][1]\n",
    "for i in range(10):\n",
    "    print(\"({:s} ({:d}), {:s} ({:d})) -> {:d}\".format(\n",
    "          id2word[pairs[i][0]], pairs[i][0], \n",
    "          id2word[pairs[i][1]], pairs[i][1], \n",
    "          labels[i]))"
   ]
  },
  {
   "cell_type": "markdown",
   "metadata": {
    "slideshow": {
     "slide_type": "slide"
    }
   },
   "source": [
    "### Training word2vec embeddings \n",
    "\n",
    "- [Original C code](https://code.google.com/archive/p/word2vec/) \n",
    "- [GitHub version of the code](https://github.com/tmikolov/word2vec)\n",
    "- [Gensim](https://radimrehurek.com/gensim/), an open source Python library has provides a Python interface for word2vec family of algorithms"
   ]
  },
  {
   "cell_type": "code",
   "execution_count": 40,
   "metadata": {
    "slideshow": {
     "slide_type": "slide"
    }
   },
   "outputs": [
    {
     "data": {
      "text/plain": [
       "[['human', 'interface', 'computer'],\n",
       " ['survey', 'user', 'computer', 'system', 'response', 'time'],\n",
       " ['eps', 'user', 'interface', 'system'],\n",
       " ['system', 'human', 'system', 'eps'],\n",
       " ['user', 'response', 'time'],\n",
       " ['trees'],\n",
       " ['graph', 'trees'],\n",
       " ['graph', 'minors', 'trees'],\n",
       " ['graph', 'minors', 'survey']]"
      ]
     },
     "execution_count": 40,
     "metadata": {},
     "output_type": "execute_result"
    }
   ],
   "source": [
    "import gensim\n",
    "from gensim.test.utils import common_texts\n",
    "from gensim.models import Word2Vec, KeyedVectors, FastText\n",
    "common_texts"
   ]
  },
  {
   "cell_type": "code",
   "execution_count": 115,
   "metadata": {
    "slideshow": {
     "slide_type": "slide"
    }
   },
   "outputs": [
    {
     "data": {
      "text/plain": [
       "array([ 9.2323427e-04, -3.7498914e-03, -1.0925164e-03,  4.2397971e-03,\n",
       "       -4.9607465e-03, -3.0870349e-04, -4.2083981e-03, -1.0050529e-03,\n",
       "       -3.6563925e-03, -2.0536014e-03, -4.1735778e-03, -3.0919104e-03,\n",
       "       -1.3408327e-03, -5.3132912e-06,  4.8371986e-03, -2.9660651e-04,\n",
       "        3.6825459e-03,  1.1264496e-03, -7.1753206e-04,  3.8768593e-03,\n",
       "       -3.9951899e-03,  8.2737493e-04, -5.1536004e-04, -4.2715762e-03,\n",
       "       -1.7228299e-04, -4.8794928e-03,  3.5386748e-04,  3.2548017e-03,\n",
       "       -3.3760341e-03, -6.9915433e-04, -3.9494857e-03,  1.4217952e-03,\n",
       "        3.4251781e-03,  2.1118931e-03, -1.0717013e-04,  9.5226412e-04,\n",
       "       -3.8584864e-03, -1.5147211e-03,  4.9362383e-03, -1.3717329e-05,\n",
       "       -4.5704949e-03,  3.2199575e-03,  2.1144950e-03,  2.8104316e-03,\n",
       "       -1.5968647e-04,  3.1935051e-03,  2.0830643e-03, -2.1148981e-03,\n",
       "        3.0582487e-03, -4.1969675e-03, -2.4907924e-03, -3.9028623e-03,\n",
       "        3.0177895e-03,  3.3060035e-03,  1.1344628e-03, -1.7954281e-03,\n",
       "       -9.3372032e-04,  1.7549621e-03,  4.1951742e-03,  1.4930015e-03,\n",
       "       -1.3175090e-03, -4.0227883e-03,  7.3695544e-04, -1.8259947e-03,\n",
       "       -8.1622007e-04, -4.5935330e-03, -2.9067833e-03,  3.6294002e-03,\n",
       "        2.8068034e-03, -4.6058802e-04, -4.0763360e-03,  3.5988327e-04,\n",
       "        3.5695978e-03, -2.4793396e-04,  2.8933866e-03, -2.4172321e-03,\n",
       "       -2.5683752e-04, -4.1767424e-03,  8.2015715e-05, -2.2491759e-03,\n",
       "        1.2973188e-03, -3.3183771e-03,  1.6528899e-03, -1.7878374e-03,\n",
       "       -3.6634412e-03, -1.5451921e-03, -2.0975070e-03,  3.8994870e-03,\n",
       "        2.1408699e-03, -3.0937360e-03,  1.4510596e-03,  3.0279874e-03,\n",
       "        7.3644880e-04,  2.6603499e-03, -2.0404607e-03, -8.2414062e-04,\n",
       "        1.6511566e-03, -3.8744833e-03,  4.0757079e-03,  1.9492215e-03],\n",
       "      dtype=float32)"
      ]
     },
     "execution_count": 115,
     "metadata": {},
     "output_type": "execute_result"
    }
   ],
   "source": [
    "model = Word2Vec(common_texts, \n",
    "                 size=100, \n",
    "                 window=5, \n",
    "                 min_count=1,\n",
    "                 sg=1, \n",
    "                 negative=4\n",
    "                )\n",
    "model.wv['trees']"
   ]
  },
  {
   "cell_type": "markdown",
   "metadata": {
    "slideshow": {
     "slide_type": "slide"
    }
   },
   "source": [
    "### Other popular methods to get embeddings"
   ]
  },
  {
   "cell_type": "markdown",
   "metadata": {
    "slideshow": {
     "slide_type": "slide"
    }
   },
   "source": [
    "### [fastText](https://fasttext.cc/)\n",
    "\n",
    "- NLP library by Facebook research  \n",
    "- Includes an algorithm which is an extension to Word2Vec\n",
    "- Helps dealing with unknown words elegantly\n",
    "- Breaks words into several n-gram subwords \n",
    "- Example: trigram sub-words for *berry* are *ber*, *err*, *rry*)\n",
    "- Embedding(*berry*) = embedding(*ber*) + embedding(*err*) + embedding(rry)"
   ]
  },
  {
   "cell_type": "markdown",
   "metadata": {
    "slideshow": {
     "slide_type": "slide"
    }
   },
   "source": [
    "### [GloVe: Global Vectors for Word Representation](https://nlp.stanford.edu/projects/glove/)\n",
    "- Starts with the co-occurrence matrix\n",
    "    - co-occurrence can be interpreted as an indicator of semantic proximity of words\n",
    "- Takes advantage of global count statistics    \n",
    "- Predicts co-occurrence ratios\n",
    "- Loss based on word frequency"
   ]
  },
  {
   "cell_type": "markdown",
   "metadata": {
    "slideshow": {
     "slide_type": "slide"
    }
   },
   "source": [
    "### Pre-trained embeddings\n",
    "\n",
    "Why? \n",
    "- Training embeddings is computationally expensive\n",
    "- For large corpora, the vocabulary size is more that 100,000.  \n",
    "- If the size of embeddings is 300, the number of parameters of the model is $2 \\times 30,000,000$"
   ]
  },
  {
   "cell_type": "markdown",
   "metadata": {
    "slideshow": {
     "slide_type": "slide"
    }
   },
   "source": [
    "### Pre-trained embeddings\n",
    "\n",
    "A number of pre-trained word embeddings are available. The most popular ones are:  \n",
    "\n",
    "- [word2vec](https://code.google.com/archive/p/word2vec/)\n",
    "    * trained on several corpora using the word2vec algorithm \n",
    "- [GloVe](https://nlp.stanford.edu/projects/glove/)\n",
    "    * trained using [the GloVe algorithm](https://nlp.stanford.edu/pubs/glove.pdf) \n",
    "    * published by Stanford University \n",
    "- [fastText pre-trained embeddings for 294 languages](https://fasttext.cc/docs/en/pretrained-vectors.html) \n",
    "    * trained using [the fastText algorithm](http://aclweb.org/anthology/Q17-1010)\n",
    "    * published by Facebook"
   ]
  },
  {
   "cell_type": "code",
   "execution_count": 114,
   "metadata": {
    "slideshow": {
     "slide_type": "slide"
    }
   },
   "outputs": [],
   "source": [
    "# Load Google's pre-trained Word2Vec model.\n",
    "model = KeyedVectors.load_word2vec_format('../../data/GoogleNews-vectors-negative300.bin', binary=True)"
   ]
  },
  {
   "cell_type": "code",
   "execution_count": 91,
   "metadata": {
    "slideshow": {
     "slide_type": "slide"
    }
   },
   "outputs": [
    {
     "name": "stdout",
     "output_type": "stream",
     "text": [
      "Size of vocabulary:  3000000\n"
     ]
    },
    {
     "name": "stderr",
     "output_type": "stream",
     "text": [
      "/Users/kvarada/anaconda3/lib/python3.6/site-packages/ipykernel_launcher.py:1: DeprecationWarning: Call to deprecated `wv` (Attribute will be removed in 4.0.0, use self instead).\n",
      "  \"\"\"Entry point for launching an IPython kernel.\n"
     ]
    }
   ],
   "source": [
    "print('Size of vocabulary: ', len(model.wv.vocab))"
   ]
  },
  {
   "cell_type": "code",
   "execution_count": 92,
   "metadata": {},
   "outputs": [
    {
     "name": "stdout",
     "output_type": "stream",
     "text": [
      "The similarity between pineapple and mango is 0.668\n",
      "The similarity between pineapple and juice is 0.418\n",
      "The similarity between sun and robot is 0.029\n"
     ]
    }
   ],
   "source": [
    "word_pairs = [('pineapple','mango'), ('pineapple','juice'), ('sun','robot')]\n",
    "for pair in word_pairs: \n",
    "    print('The similarity between %s and %s is %0.3f' %(pair[0], pair[1], model.similarity(pair[0], pair[1])))\n",
    "    "
   ]
  },
  {
   "cell_type": "markdown",
   "metadata": {
    "slideshow": {
     "slide_type": "slide"
    }
   },
   "source": [
    "### t-SNE projection of embeddings of some words"
   ]
  },
  {
   "cell_type": "code",
   "execution_count": null,
   "metadata": {
    "slideshow": {
     "slide_type": "skip"
    }
   },
   "outputs": [],
   "source": []
  },
  {
   "cell_type": "code",
   "execution_count": 93,
   "metadata": {
    "slideshow": {
     "slide_type": "skip"
    }
   },
   "outputs": [],
   "source": [
    "import matplotlib.pyplot as plt\n",
    "import matplotlib.cm as cm\n",
    "\n",
    "def tsne_plot_similar_words(title, labels, embedding_clusters, word_clusters, a, filename=None):\n",
    "    plt.figure(figsize=(16, 9))\n",
    "    #colors = cm.rainbow(np.linspace(0, 1, len(labels)))\n",
    "    colors = ['red', 'green', 'blue', 'cyan', 'orange']\n",
    "    for label, embeddings, words, color in zip(labels, embedding_clusters, word_clusters, colors):\n",
    "        x = embeddings[:, 0]\n",
    "        y = embeddings[:, 1]\n",
    "        plt.scatter(x, y, c=color, alpha=a, label=label)\n",
    "        for i, word in enumerate(words):\n",
    "            plt.annotate(word, alpha=2.0, xy=(x[i], y[i]), xytext=(5, 2),\n",
    "                         textcoords='offset points', ha='right', va='bottom', size=12)\n",
    "    plt.legend(loc=2)\n",
    "    plt.title(title)\n",
    "    plt.grid(True)\n",
    "    if filename:\n",
    "        plt.savefig(filename, format='png', dpi=150, bbox_inches='tight')\n",
    "    plt.show()"
   ]
  },
  {
   "cell_type": "code",
   "execution_count": 94,
   "metadata": {
    "slideshow": {
     "slide_type": "skip"
    }
   },
   "outputs": [],
   "source": [
    "keys = ['Vancouver', 'data', 'mango', 'Socrates', 'meditation']\n",
    "\n",
    "embedding_clusters = []\n",
    "word_clusters = []\n",
    "for word in keys:\n",
    "    embeddings = []\n",
    "    words = []\n",
    "    for similar_word, _ in model.most_similar(word, topn=10):\n",
    "        words.append(similar_word)\n",
    "        embeddings.append(model[similar_word])\n",
    "        \n",
    "    embedding_clusters.append(embeddings)\n",
    "    word_clusters.append(words)\n",
    "    \n",
    "from sklearn.manifold import TSNE\n",
    "import numpy as np\n",
    "\n",
    "embedding_clusters = np.array(embedding_clusters)\n",
    "n, m, k = embedding_clusters.shape\n",
    "tsne_model_en_2d = TSNE(perplexity=15, n_components=2, init='pca', n_iter=3500, random_state=32)\n",
    "embeddings_en_2d = np.array(tsne_model_en_2d.fit_transform(embedding_clusters.reshape(n * m, k))).reshape(n, m, 2)    \n",
    "\n",
    "import matplotlib.pyplot as plt\n",
    "import matplotlib.cm as cm"
   ]
  },
  {
   "cell_type": "code",
   "execution_count": 95,
   "metadata": {
    "slideshow": {
     "slide_type": "slide"
    }
   },
   "outputs": [
    {
     "data": {
      "image/png": "[encoded data removed]",
      "text/plain": [
       "<Figure size 1152x648 with 1 Axes>"
      ]
     },
     "metadata": {
      "needs_background": "light"
     },
     "output_type": "display_data"
    }
   ],
   "source": [
    "tsne_plot_similar_words('Similar words from Wikipedia', keys, embeddings_en_2d, word_clusters,  0.9)\n"
   ]
  },
  {
   "cell_type": "code",
   "execution_count": 96,
   "metadata": {
    "slideshow": {
     "slide_type": "slide"
    }
   },
   "outputs": [
    {
     "data": {
      "text/plain": [
       "[('mangoes', 0.7850891351699829),\n",
       " ('mangos', 0.7233096361160278),\n",
       " ('guava', 0.7192398905754089),\n",
       " ('coconut', 0.6775304079055786),\n",
       " ('jackfruit', 0.6722090244293213),\n",
       " ('pineapple', 0.6678789854049683),\n",
       " ('tamarind', 0.6678106188774109),\n",
       " ('citrus_fruit', 0.6667780876159668),\n",
       " ('fruit', 0.6631807088851929),\n",
       " ('cashew', 0.6624342203140259)]"
      ]
     },
     "execution_count": 96,
     "metadata": {},
     "output_type": "execute_result"
    }
   ],
   "source": [
    "model.most_similar('mango')"
   ]
  },
  {
   "cell_type": "markdown",
   "metadata": {
    "slideshow": {
     "slide_type": "slide"
    }
   },
   "source": [
    "### Summary\n",
    "\n",
    "- Vector space model \n",
    "    * Modeling word meaning by placing it in a vector space\n",
    "    * Distance between words in this vector space indicate the relationship between them\n",
    "- Word embeddings\n",
    "    * Creating short and dense representations of words \n",
    "- Word2Vec\n",
    "    * A family of models to learn dense vector representations of words\n",
    "    * Freely available code and pre-trained models \n",
    "    * Available for many different languages. \n",
    "\n",
    "Note: If there are no embeddings for your language, you know how to build them now 😊. "
   ]
  },
  {
   "cell_type": "markdown",
   "metadata": {
    "slideshow": {
     "slide_type": "slide"
    }
   },
   "source": [
    "### Pre-work for the next class:\n",
    "\n",
    "- We'll be working with pre-trained embeddings in the next class. \n",
    "- Download [Word2Vec  GoogleNews-vectors-negative300](https://drive.google.com/file/d/0B7XkCwpI5KDYNlNUTTlSS21pQmM/edit?usp=sharing). (Large file. Compressed size: ~ 1.3 GB).\n",
    "- Unzip the downloaded file.\n",
    "- Load the model using `gensim` as we did above. \n",
    "- We'll work with the loded model in the next class. "
   ]
  },
  {
   "cell_type": "markdown",
   "metadata": {
    "slideshow": {
     "slide_type": "slide"
    }
   },
   "source": [
    "### Lab overview"
   ]
  },
  {
   "cell_type": "markdown",
   "metadata": {
    "slideshow": {
     "slide_type": "slide"
    }
   },
   "source": [
    "## Relevant papers\n",
    "\n",
    "- [Distributed representations of words and phrases and their compositionality](https://papers.nips.cc/paper/5021-distributed-representations-of-words-and-phrases-and-their-compositionality.pdf)\n",
    "- [Efficient estimation of word representations in vector space](https://arxiv.org/pdf/1301.3781.pdf)\n",
    "- [Linguistic regularities in continuous space word representations](https://www.aclweb.org/anthology/N13-1090)\n",
    "- [Enriching Word Vectors with Subword Information](http://aclweb.org/anthology/Q17-1010)\n"
   ]
  },
  {
   "cell_type": "markdown",
   "metadata": {
    "slideshow": {
     "slide_type": "slide"
    }
   },
   "source": [
    "## Links for pre-trained embeddings\n",
    "- [GloVe](https://nlp.stanford.edu/projects/glove/)\n",
    "- [fastText pre-trained embeddings for 294 languages](https://fasttext.cc/docs/en/pretrained-vectors.html) \n",
    "\n",
    "## Fun tools\n",
    "[wevi: word embedding visual inspector](https://ronxin.github.io/wevi/)"
   ]
  }
 ],
 "metadata": {
  "celltoolbar": "Slideshow",
  "kernelspec": {
   "display_name": "Python 3",
   "language": "python",
   "name": "python3"
  },
  "language_info": {
   "codemirror_mode": {
    "name": "ipython",
    "version": 3
   },
   "file_extension": ".py",
   "mimetype": "text/x-python",
   "name": "python",
   "nbconvert_exporter": "python",
   "pygments_lexer": "ipython3",
   "version": "3.6.8"
  }
 },
 "nbformat": 4,
 "nbformat_minor": 2
}
